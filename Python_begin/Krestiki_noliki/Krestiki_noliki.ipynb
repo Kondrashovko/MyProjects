{
 "cells": [
  {
   "cell_type": "code",
   "execution_count": 1,
   "metadata": {},
   "outputs": [],
   "source": [
    "board = list('---------')"
   ]
  },
  {
   "cell_type": "code",
   "execution_count": 2,
   "metadata": {},
   "outputs": [],
   "source": [
    "def draw_board(board):\n",
    "    print(' ', 1, 2, 3)\n",
    "    for i in range(3):\n",
    "        print (i+1, board[0+i*3],  board[1+i*3],  board[2+i*3])"
   ]
  },
  {
   "cell_type": "code",
   "execution_count": 3,
   "metadata": {},
   "outputs": [],
   "source": [
    "def take_input(token):\n",
    "    valid = False\n",
    "    while not valid:\n",
    "        answer = [0, 0]\n",
    "        answer[0] = input(\"Введите столбец, куда поставим \" + token + \" ?  (от 1 до 3)\")\n",
    "        if answer[0].isnumeric() == True:\n",
    "            answer[1] = input(\"Введите строку, куда поставим \" + token + \" ?  (от 1 до 3)\")\n",
    "            if answer[1].isnumeric() == True:\n",
    "                answer[0], answer[1] = int(answer[0]), int(answer[1])\n",
    "                if 0<answer[0]<4 and 0<answer[1]<4:\n",
    "                    if (str(board[int((answer[1]-1)*3)+answer[0]-1]) not in \"XO\"):\n",
    "                        board[int((answer[1]-1)*3)+answer[0]-1] = token\n",
    "                        valid = True\n",
    "                    else:\n",
    "                        print(\"Эта клетка уже занята!!\")\n",
    "                else:\n",
    "                    print(\"Некорректный ввод!!\")            \n",
    "            else:\n",
    "                print(\"Введите число!!!!\")\n",
    "        else:\n",
    "            print(\"Введите число!!!!\")"
   ]
  },
  {
   "cell_type": "code",
   "execution_count": 4,
   "metadata": {},
   "outputs": [],
   "source": [
    "def check_win(board):\n",
    "    win_coord = ((0,1,2),(3,4,5),(6,7,8),(0,3,6),(1,4,7),(2,5,8),(0,4,8),(2,4,6))\n",
    "    for each in win_coord:\n",
    "        if board[each[0]] == board[each[1]] == board[each[2]]!='-':\n",
    "            return board[each[0]]\n",
    "    return False"
   ]
  },
  {
   "cell_type": "code",
   "execution_count": 5,
   "metadata": {},
   "outputs": [
    {
     "name": "stdout",
     "output_type": "stream",
     "text": [
      "Правила игры:\n",
      "\n",
      "Игроки по очереди ставят на свободные клетки поля 3×3 знаки (один всегда крестики, другой всегда нолики).\n",
      "Первый, выстроивший в ряд 3 своих фигуры по вертикали, горизонтали или диагонали, выигрывает.\n",
      "Первый ход делает игрок, ставящий крестики.\n",
      "\n",
      "  1 2 3\n",
      "1 - - -\n",
      "2 - - -\n",
      "3 - - -\n",
      "Введите столбец, куда поставим X ?  (от 1 до 3)\n",
      "Введите число!!!!\n",
      "Введите столбец, куда поставим X ?  (от 1 до 3)9\n",
      "Введите строку, куда поставим X ?  (от 1 до 3)4\n",
      "Некорректный ввод!!\n",
      "Введите столбец, куда поставим X ?  (от 1 до 3)в2\n",
      "Введите число!!!!\n",
      "Введите столбец, куда поставим X ?  (от 1 до 3)3\n",
      "Введите строку, куда поставим X ?  (от 1 до 3)4\n",
      "Некорректный ввод!!\n",
      "Введите столбец, куда поставим X ?  (от 1 до 3)2\n",
      "Введите строку, куда поставим X ?  (от 1 до 3)2\n",
      "  1 2 3\n",
      "1 - - -\n",
      "2 - X -\n",
      "3 - - -\n",
      "Введите столбец, куда поставим O ?  (от 1 до 3)2\n",
      "Введите строку, куда поставим O ?  (от 1 до 3)2\n",
      "Эта клетка уже занята!!\n",
      "Введите столбец, куда поставим O ?  (от 1 до 3)2\n",
      "Введите строку, куда поставим O ?  (от 1 до 3)2\n",
      "Эта клетка уже занята!!\n",
      "Введите столбец, куда поставим O ?  (от 1 до 3)\n",
      "Введите число!!!!\n",
      "Введите столбец, куда поставим O ?  (от 1 до 3)па\n",
      "Введите число!!!!\n",
      "Введите столбец, куда поставим O ?  (от 1 до 3)1\n",
      "Введите строку, куда поставим O ?  (от 1 до 3)1\n",
      "  1 2 3\n",
      "1 O - -\n",
      "2 - X -\n",
      "3 - - -\n",
      "Введите столбец, куда поставим X ?  (от 1 до 3)3\n",
      "Введите строку, куда поставим X ?  (от 1 до 3)3\n",
      "  1 2 3\n",
      "1 O - -\n",
      "2 - X -\n",
      "3 - - X\n",
      "Введите столбец, куда поставим O ?  (от 1 до 3)2\n",
      "Введите строку, куда поставим O ?  (от 1 до 3)1\n",
      "  1 2 3\n",
      "1 O O -\n",
      "2 - X -\n",
      "3 - - X\n",
      "Введите столбец, куда поставим X ?  (от 1 до 3)3\n",
      "Введите строку, куда поставим X ?  (от 1 до 3)1\n",
      "  1 2 3\n",
      "1 O O X\n",
      "2 - X -\n",
      "3 - - X\n",
      "Введите столбец, куда поставим O ?  (от 1 до 3)1\n",
      "Введите строку, куда поставим O ?  (от 1 до 3)3\n",
      "  1 2 3\n",
      "1 O O X\n",
      "2 - X -\n",
      "3 O - X\n",
      "Введите столбец, куда поставим X ?  (от 1 до 3)3\n",
      "Введите строку, куда поставим X ?  (от 1 до 3)2\n",
      "Крестики выиграли!\n",
      "  1 2 3\n",
      "1 O O X\n",
      "2 - X X\n",
      "3 O - X\n"
     ]
    }
   ],
   "source": [
    "counter = 0\n",
    "win = False\n",
    "print(\"Правила игры:\")\n",
    "print()\n",
    "print(\"Игроки по очереди ставят на свободные клетки поля 3×3 знаки (один всегда крестики, другой всегда нолики).\")\n",
    "print(\"Первый, выстроивший в ряд 3 своих фигуры по вертикали, горизонтали или диагонали, выигрывает.\")\n",
    "print(\"Первый ход делает игрок, ставящий крестики.\")\n",
    "print()\n",
    "while not win:\n",
    "    draw_board(board)\n",
    "    if counter % 2 == 0:\n",
    "        take_input(\"X\")\n",
    "    else:\n",
    "        take_input(\"O\")\n",
    "    counter += 1\n",
    "    if counter > 4:\n",
    "        tmp = check_win(board)\n",
    "        if tmp:\n",
    "            if tmp == \"X\":\n",
    "                print(\"Крестики выиграли!\")\n",
    "            else:\n",
    "                print(\"Нолики выиграли!\")\n",
    "            win = True\n",
    "            break\n",
    "    if counter == 9:\n",
    "        print(\"Ничья!\")\n",
    "        break\n",
    "draw_board(board)"
   ]
  },
  {
   "cell_type": "code",
   "execution_count": null,
   "metadata": {},
   "outputs": [],
   "source": []
  },
  {
   "cell_type": "code",
   "execution_count": null,
   "metadata": {},
   "outputs": [],
   "source": []
  }
 ],
 "metadata": {
  "kernelspec": {
   "display_name": "Python 3",
   "language": "python",
   "name": "python3"
  },
  "language_info": {
   "codemirror_mode": {
    "name": "ipython",
    "version": 3
   },
   "file_extension": ".py",
   "mimetype": "text/x-python",
   "name": "python",
   "nbconvert_exporter": "python",
   "pygments_lexer": "ipython3",
   "version": "3.8.5"
  }
 },
 "nbformat": 4,
 "nbformat_minor": 4
}
