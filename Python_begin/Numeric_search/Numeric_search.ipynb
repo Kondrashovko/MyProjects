{
 "cells": [
  {
   "cell_type": "markdown",
   "metadata": {},
   "source": [
    "# Алгоритм поиска заданного числа.\n"
   ]
  },
  {
   "cell_type": "markdown",
   "metadata": {},
   "source": [
    "### Цель проекта:\n",
    "Описать алгоритм поиска загаданного компьютером числа от 1 до 100."
   ]
  },
  {
   "cell_type": "markdown",
   "metadata": {},
   "source": [
    "### Задачи проекта:\n",
    "1. Оптимизировать количество циклов поиска числа, загаданного компьютером и свести количество шагов к минимуму;\n",
    "2. Проверить оптимизацию алгоритма на 1000 случайно заданных чисел."
   ]
  },
  {
   "cell_type": "markdown",
   "metadata": {},
   "source": [
    "Импортируем библиотеки:"
   ]
  },
  {
   "cell_type": "code",
   "execution_count": 1,
   "metadata": {},
   "outputs": [],
   "source": [
    "import numpy as np\n",
    "import math"
   ]
  },
  {
   "cell_type": "markdown",
   "metadata": {},
   "source": [
    "Описываем ядро поиска и сводим количество циклов поиска загаданного компьютером числа к минимуму:"
   ]
  },
  {
   "cell_type": "code",
   "execution_count": 2,
   "metadata": {},
   "outputs": [],
   "source": [
    "def game_core(number):\n",
    "    count = 1\n",
    "    predict = np.random.randint(1, 101)\n",
    "    while number != predict:\n",
    "        count += 1\n",
    "        if number > predict:\n",
    "            predict += math.ceil(100/(pow(2, count-1)))\n",
    "            '''Шаг в единицу не очень логичен, заменим половиной зоны поиска, \n",
    "            постепенно уменьшая зону поиска'''\n",
    "        elif number < predict:\n",
    "            predict -= math.ceil(100/(pow(2, count-1)))\n",
    "            '''Округляем зону поиска функцией math.ceil, чтобы случайно число не вышло за \n",
    "            границы зоны поиска'''\n",
    "    return count"
   ]
  },
  {
   "cell_type": "markdown",
   "metadata": {},
   "source": [
    "Описываем 1000 рандомных чисел и вычисляем среднее количество попыток для угадывания числа:"
   ]
  },
  {
   "cell_type": "code",
   "execution_count": 3,
   "metadata": {},
   "outputs": [],
   "source": [
    "def score_game(game_core):\n",
    "    count_ls = []\n",
    "    np.random.seed(1)\n",
    "    random_array = np.random.randint(1,101, size=(1000))\n",
    "    for number in random_array:\n",
    "        count_ls.append(game_core(number))\n",
    "    score = int(np.mean(count_ls))\n",
    "    return(score)"
   ]
  },
  {
   "cell_type": "markdown",
   "metadata": {},
   "source": [
    "Выводим результат:"
   ]
  },
  {
   "cell_type": "code",
   "execution_count": 4,
   "metadata": {},
   "outputs": [
    {
     "name": "stdout",
     "output_type": "stream",
     "text": [
      "Ваш алгоритм угадывает число в среднем за 6 попыток\n"
     ]
    }
   ],
   "source": [
    "print(f\"Ваш алгоритм угадывает число в среднем за {score_game(game_core)} попыток\")"
   ]
  },
  {
   "cell_type": "markdown",
   "metadata": {},
   "source": [
    "### Выводы:\n",
    "- Применены вычисления ширины шага, который уменьшается с каждым циклом;\n",
    "- Шаг округлен в большую сторону, чтобы на следующем шаге искомое число не выпало за границу поиска;\n",
    "- Алгоритм угадывает число в среднем за 6 попыток, что является неплохим результатом работы"
   ]
  },
  {
   "cell_type": "code",
   "execution_count": null,
   "metadata": {},
   "outputs": [],
   "source": []
  },
  {
   "cell_type": "code",
   "execution_count": null,
   "metadata": {},
   "outputs": [],
   "source": []
  }
 ],
 "metadata": {
  "kernelspec": {
   "display_name": "Python 3",
   "language": "python",
   "name": "python3"
  },
  "language_info": {
   "codemirror_mode": {
    "name": "ipython",
    "version": 3
   },
   "file_extension": ".py",
   "mimetype": "text/x-python",
   "name": "python",
   "nbconvert_exporter": "python",
   "pygments_lexer": "ipython3",
   "version": "3.8.5"
  }
 },
 "nbformat": 4,
 "nbformat_minor": 4
}
